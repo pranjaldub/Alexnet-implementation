{
 "cells": [
  {
   "cell_type": "code",
   "execution_count": 1,
   "metadata": {
    "_cell_guid": "b1076dfc-b9ad-4769-8c92-a6c4dae69d19",
    "_uuid": "8f2839f25d086af736a60e9eeb907d3b93b6e0e5"
   },
   "outputs": [
    {
     "name": "stdout",
     "output_type": "stream",
     "text": [
      "/kaggle/input/data_batch_3\n",
      "/kaggle/input/test_batch\n",
      "/kaggle/input/data_batch_5\n",
      "/kaggle/input/data_batch_4\n",
      "/kaggle/input/data_batch_2\n",
      "/kaggle/input/data_batch_1\n",
      "/kaggle/input/batches.meta\n"
     ]
    }
   ],
   "source": [
    "# This Python 3 environment comes with many helpful analytics libraries installed\n",
    "# It is defined by the kaggle/python Docker image: https://github.com/kaggle/docker-python\n",
    "# For example, here's several helpful packages to load\n",
    "\n",
    "import numpy as np # linear algebra\n",
    "import pandas as pd # data processing, CSV file I/O (e.g. pd.read_csv)\n",
    "\n",
    "# Input data files are available in the read-only \"../input/\" directory\n",
    "# For example, running this (by clicking run or pressing Shift+Enter) will list all files under the input directory\n",
    "\n",
    "import os\n",
    "for dirname, _, filenames in os.walk('/kaggle/input'):\n",
    "    for filename in filenames:\n",
    "        print(os.path.join(dirname, filename))\n",
    "\n",
    "# You can write up to 5GB to the current directory (/kaggle/working/) that gets preserved as output when you create a version using \"Save & Run All\" \n",
    "# You can also write temporary files to /kaggle/temp/, but they won't be saved outside of the current session"
   ]
  },
  {
   "cell_type": "code",
   "execution_count": 2,
   "metadata": {
    "_cell_guid": "79c7e3d0-c299-4dcb-8224-4455121ee9b0",
    "_uuid": "d629ff2d2480ee46fbb7e2d37f6b5fab8052498a"
   },
   "outputs": [
    {
     "name": "stderr",
     "output_type": "stream",
     "text": [
      "Using TensorFlow backend.\n"
     ]
    }
   ],
   "source": [
    "#%tensorflow_version 1.x\n",
    "import numpy as np\n",
    "import pandas as pd\n",
    "from keras.layers import Dense,Dropout,MaxPooling2D,Flatten,BatchNormalization,Conv2D,ZeroPadding2D\n",
    "from keras.models import Sequential\n",
    "from keras.utils import to_categorical\n",
    "from keras.optimizers import Adadelta,RMSprop\n",
    "from keras.preprocessing.image import ImageDataGenerator\n",
    "from keras.regularizers import l2\n",
    "from keras.datasets import cifar10\n",
    "import tensorflow as tf "
   ]
  },
  {
   "cell_type": "code",
   "execution_count": 3,
   "metadata": {},
   "outputs": [],
   "source": [
    "seed = 7\n",
    "np.random.seed(seed)"
   ]
  },
  {
   "cell_type": "code",
   "execution_count": 4,
   "metadata": {},
   "outputs": [
    {
     "name": "stdout",
     "output_type": "stream",
     "text": [
      "/kaggle/input\n"
     ]
    }
   ],
   "source": [
    "cd /kaggle/input"
   ]
  },
  {
   "cell_type": "code",
   "execution_count": 5,
   "metadata": {},
   "outputs": [],
   "source": [
    "import pickle\n",
    "def load_cifar10_data(batch_number):\n",
    "    with open('../input/data_batch_'+ str(batch_number), 'rb') as file:\n",
    "        batch = pickle.load(file, encoding='latin1')\n",
    "\n",
    "    features = batch['data']\n",
    "    labels = batch['labels']\n",
    "    return features, labels\n"
   ]
  },
  {
   "cell_type": "code",
   "execution_count": 6,
   "metadata": {},
   "outputs": [],
   "source": [
    "batch_1, labels_1 = load_cifar10_data(1)\n",
    "batch_2, labels_2 = load_cifar10_data(2)\n",
    "batch_3, labels_3 = load_cifar10_data(3)\n",
    "batch_4, labels_4 = load_cifar10_data(4)\n",
    "batch_5, labels_5 = load_cifar10_data(5)"
   ]
  },
  {
   "cell_type": "code",
   "execution_count": 7,
   "metadata": {},
   "outputs": [],
   "source": [
    "all_images = np.append(batch_1, batch_2, axis=0)\n",
    "all_images = all_images.reshape((len(all_images), 3, 32, 32)).transpose(0,2,3,1)\n",
    "all_labels = np.append(labels_1, labels_2, axis=0)\n"
   ]
  },
  {
   "cell_type": "code",
   "execution_count": 8,
   "metadata": {},
   "outputs": [],
   "source": [
    "dict = {0:'Airplane', 1:'Automobile', 2:'Bird', 3:'Cat', 4:'Deer', 5:'Dog', 6:'Frog', 7:'Horse', 8:'Ship', 9:'Truck'}\n",
    "import matplotlib.pyplot as plt\n",
    "def plot_image(number):\n",
    "    \n",
    "    fig = plt.figure(figsize = (15,8))\n",
    "    plt.imshow(all_images[number])\n",
    "    plt.title(dict[all_labels[number]])"
   ]
  },
  {
   "cell_type": "code",
   "execution_count": 9,
   "metadata": {},
   "outputs": [
    {
     "data": {
      "image/png": "[encoded data removed]",
      "text/plain": [
       "<Figure size 1080x576 with 1 Axes>"
      ]
     },
     "metadata": {
      "needs_background": "light"
     },
     "output_type": "display_data"
    }
   ],
   "source": [
    "plot_image(123)"
   ]
  },
  {
   "cell_type": "code",
   "execution_count": 10,
   "metadata": {},
   "outputs": [
    {
     "data": {
      "text/plain": [
       "(40000, 3072)"
      ]
     },
     "execution_count": 10,
     "metadata": {},
     "output_type": "execute_result"
    }
   ],
   "source": [
    "x_train = np.append(batch_1[0:8000], batch_2[0:8000], axis=0)\n",
    "x_train = np.append(x_train, batch_3[0:8000], axis=0)\n",
    "x_train = np.append(x_train, batch_4[0:8000], axis=0)\n",
    "x_train = np.append(x_train, batch_5[0:8000], axis=0)\n",
    "x_train.shape"
   ]
  },
  {
   "cell_type": "code",
   "execution_count": 11,
   "metadata": {},
   "outputs": [
    {
     "data": {
      "text/plain": [
       "(40000,)"
      ]
     },
     "execution_count": 11,
     "metadata": {},
     "output_type": "execute_result"
    }
   ],
   "source": [
    "y_train = np.append(labels_1[0:8000], labels_2[0:8000], axis=0)\n",
    "y_train = np.append(y_train, labels_3[0:8000], axis=0)\n",
    "y_train = np.append(y_train, labels_4[0:8000], axis=0)\n",
    "y_train = np.append(y_train, labels_5[0:8000], axis=0)\n",
    "y_train.shape"
   ]
  },
  {
   "cell_type": "code",
   "execution_count": 12,
   "metadata": {},
   "outputs": [
    {
     "data": {
      "text/plain": [
       "(4995, 3072)"
      ]
     },
     "execution_count": 12,
     "metadata": {},
     "output_type": "execute_result"
    }
   ],
   "source": [
    "x_validation = np.append(batch_1[8001:9000], batch_2[8001:9000], axis=0)\n",
    "x_validation = np.append(x_validation, batch_3[8001:9000], axis=0)\n",
    "x_validation = np.append(x_validation, batch_4[8001:9000], axis=0)\n",
    "x_validation = np.append(x_validation, batch_5[8001:9000], axis=0)\n",
    "x_validation.shape"
   ]
  },
  {
   "cell_type": "code",
   "execution_count": 13,
   "metadata": {},
   "outputs": [
    {
     "data": {
      "text/plain": [
       "(4995,)"
      ]
     },
     "execution_count": 13,
     "metadata": {},
     "output_type": "execute_result"
    }
   ],
   "source": [
    "y_validation = np.append(labels_1[8001:9000], labels_2[8001:9000], axis=0)\n",
    "y_validation = np.append(y_validation, labels_3[8001:9000], axis=0)\n",
    "y_validation = np.append(y_validation, labels_4[8001:9000], axis=0)\n",
    "y_validation = np.append(y_validation, labels_5[8001:9000], axis=0)\n",
    "y_validation.shape"
   ]
  },
  {
   "cell_type": "code",
   "execution_count": 14,
   "metadata": {},
   "outputs": [
    {
     "data": {
      "text/plain": [
       "(4995, 3072)"
      ]
     },
     "execution_count": 14,
     "metadata": {},
     "output_type": "execute_result"
    }
   ],
   "source": [
    "x_test = np.append(batch_1[9001:10000], batch_2[9001:10000], axis=0)\n",
    "x_test = np.append(x_test, batch_3[9001:10000], axis=0)\n",
    "x_test = np.append(x_test, batch_4[9001:10000], axis=0)\n",
    "x_test = np.append(x_test, batch_5[9001:10000], axis=0)\n",
    "x_test.shape"
   ]
  },
  {
   "cell_type": "code",
   "execution_count": 15,
   "metadata": {},
   "outputs": [
    {
     "data": {
      "text/plain": [
       "(4995,)"
      ]
     },
     "execution_count": 15,
     "metadata": {},
     "output_type": "execute_result"
    }
   ],
   "source": [
    "y_test = np.append(labels_1[9001:10000], labels_2[9001:10000], axis=0)\n",
    "y_test = np.append(y_test, labels_3[9001:10000], axis=0)\n",
    "y_test = np.append(y_test, labels_4[9001:10000], axis=0)\n",
    "y_test = np.append(y_test, labels_5[9001:10000], axis=0)\n",
    "y_test.shape"
   ]
  },
  {
   "cell_type": "code",
   "execution_count": 16,
   "metadata": {},
   "outputs": [
    {
     "name": "stdout",
     "output_type": "stream",
     "text": [
      "(3072,)\n"
     ]
    }
   ],
   "source": [
    "input_shape = x_train.shape[1:]\n",
    "print(x_train.shape[1:])  #we have to convert into 4d array for conv layer"
   ]
  },
  {
   "cell_type": "code",
   "execution_count": 17,
   "metadata": {},
   "outputs": [
    {
     "name": "stdout",
     "output_type": "stream",
     "text": [
      "(32, 32, 3)\n"
     ]
    }
   ],
   "source": [
    "x_train = x_train.reshape((len(x_train), 3, 32, 32)).transpose(0,2,3,1)\n",
    "x_validation = x_validation.reshape((len(x_validation), 3, 32, 32)).transpose(0,2,3,1)\n",
    "x_test = x_test.reshape((len(x_test), 3, 32, 32)).transpose(0,2,3,1)\n",
    "print(x_train.shape[1:])"
   ]
  },
  {
   "cell_type": "code",
   "execution_count": 18,
   "metadata": {},
   "outputs": [],
   "source": [
    "num_classes = 10\n",
    "y_train = to_categorical(y_train, num_classes)\n",
    "y_validation = to_categorical(y_validation, num_classes)\n",
    "y_test = to_categorical(y_test, num_classes)"
   ]
  },
  {
   "cell_type": "code",
   "execution_count": 19,
   "metadata": {},
   "outputs": [],
   "source": [
    "train_datagen = ImageDataGenerator(rescale=1./255, shear_range=0.2, zoom_range=0.2, horizontal_flip=True)\n",
    "train_set = train_datagen.flow(x_train, y_train, batch_size=32)\n",
    "\n",
    "validation_datagen = ImageDataGenerator(rescale=1./255)\n",
    "validation_set = validation_datagen.flow(x_validation, y_validation, batch_size=32)\n"
   ]
  },
  {
   "cell_type": "code",
   "execution_count": 20,
   "metadata": {},
   "outputs": [
    {
     "name": "stdout",
     "output_type": "stream",
     "text": [
      "Model: \"sequential_1\"\n",
      "_________________________________________________________________\n",
      "Layer (type)                 Output Shape              Param #   \n",
      "=================================================================\n",
      "conv2d_1 (Conv2D)            (None, 32, 32, 64)        9472      \n",
      "_________________________________________________________________\n",
      "dropout_1 (Dropout)          (None, 32, 32, 64)        0         \n",
      "_________________________________________________________________\n",
      "batch_normalization_1 (Batch (None, 32, 32, 64)        256       \n",
      "_________________________________________________________________\n",
      "max_pooling2d_1 (MaxPooling2 (None, 16, 16, 64)        0         \n",
      "_________________________________________________________________\n",
      "conv2d_2 (Conv2D)            (None, 16, 16, 128)       204928    \n",
      "_________________________________________________________________\n",
      "dropout_2 (Dropout)          (None, 16, 16, 128)       0         \n",
      "_________________________________________________________________\n",
      "batch_normalization_2 (Batch (None, 16, 16, 128)       512       \n",
      "_________________________________________________________________\n",
      "max_pooling2d_2 (MaxPooling2 (None, 8, 8, 128)         0         \n",
      "_________________________________________________________________\n",
      "zero_padding2d_1 (ZeroPaddin (None, 10, 10, 128)       0         \n",
      "_________________________________________________________________\n",
      "conv2d_3 (Conv2D)            (None, 10, 10, 512)       590336    \n",
      "_________________________________________________________________\n",
      "dropout_3 (Dropout)          (None, 10, 10, 512)       0         \n",
      "_________________________________________________________________\n",
      "batch_normalization_3 (Batch (None, 10, 10, 512)       2048      \n",
      "_________________________________________________________________\n",
      "max_pooling2d_3 (MaxPooling2 (None, 5, 5, 512)         0         \n",
      "_________________________________________________________________\n",
      "zero_padding2d_2 (ZeroPaddin (None, 7, 7, 512)         0         \n",
      "_________________________________________________________________\n",
      "conv2d_4 (Conv2D)            (None, 7, 7, 1024)        4719616   \n",
      "_________________________________________________________________\n",
      "dropout_4 (Dropout)          (None, 7, 7, 1024)        0         \n",
      "_________________________________________________________________\n",
      "batch_normalization_4 (Batch (None, 7, 7, 1024)        4096      \n",
      "_________________________________________________________________\n",
      "max_pooling2d_4 (MaxPooling2 (None, 3, 3, 1024)        0         \n",
      "_________________________________________________________________\n",
      "zero_padding2d_3 (ZeroPaddin (None, 5, 5, 1024)        0         \n",
      "_________________________________________________________________\n",
      "conv2d_5 (Conv2D)            (None, 5, 5, 1024)        9438208   \n",
      "_________________________________________________________________\n",
      "dropout_5 (Dropout)          (None, 5, 5, 1024)        0         \n",
      "_________________________________________________________________\n",
      "batch_normalization_5 (Batch (None, 5, 5, 1024)        4096      \n",
      "_________________________________________________________________\n",
      "max_pooling2d_5 (MaxPooling2 (None, 2, 2, 1024)        0         \n",
      "_________________________________________________________________\n",
      "flatten_1 (Flatten)          (None, 4096)              0         \n",
      "_________________________________________________________________\n",
      "dense_1 (Dense)              (None, 512)               2097664   \n",
      "_________________________________________________________________\n",
      "batch_normalization_6 (Batch (None, 512)               2048      \n",
      "_________________________________________________________________\n",
      "dropout_6 (Dropout)          (None, 512)               0         \n",
      "_________________________________________________________________\n",
      "dense_2 (Dense)              (None, 1028)              527364    \n",
      "_________________________________________________________________\n",
      "batch_normalization_7 (Batch (None, 1028)              4112      \n",
      "_________________________________________________________________\n",
      "dropout_7 (Dropout)          (None, 1028)              0         \n",
      "_________________________________________________________________\n",
      "dense_3 (Dense)              (None, 10)                10290     \n",
      "_________________________________________________________________\n",
      "batch_normalization_8 (Batch (None, 10)                40        \n",
      "=================================================================\n",
      "Total params: 17,615,086\n",
      "Trainable params: 17,606,482\n",
      "Non-trainable params: 8,604\n",
      "_________________________________________________________________\n"
     ]
    }
   ],
   "source": [
    "#building the alex net architecture with 5 conv layers and 3 FC layers\n",
    "l2_reg=0\n",
    "model = Sequential()\n",
    "\n",
    "#first conv layer\n",
    "model.add(Conv2D(64,(7,7),input_shape = x_train.shape[1:],padding='same',kernel_regularizer=l2(l2_reg),activation='relu'))\n",
    "model.add(Dropout(0.3))#\n",
    "model.add(BatchNormalization())\n",
    "model.add(MaxPooling2D(2,2))\n",
    "\n",
    "#second cinv layer\n",
    "model.add(Conv2D(128,(5,5),padding='same',activation='relu'))\n",
    "model.add(Dropout(0.3))#\n",
    "model.add(BatchNormalization())\n",
    "model.add(MaxPooling2D(2,2))\n",
    "\n",
    "#third conv layer\n",
    "model.add(ZeroPadding2D((1,1)))\n",
    "model.add(Conv2D(512,(3,3),padding='same',activation='relu'))\n",
    "model.add(Dropout(0.25))\n",
    "model.add(BatchNormalization())\n",
    "model.add(MaxPooling2D(2,2))\n",
    "\n",
    "\n",
    "#fourth conv layer\n",
    "model.add(ZeroPadding2D((1,1)))\n",
    "model.add(Conv2D(1024,(3,3),padding='same',activation='relu'))\n",
    "model.add(Dropout(0.3))#\n",
    "model.add(BatchNormalization())\n",
    "model.add(MaxPooling2D(2,2))\n",
    "\n",
    "#fifth conv layer\n",
    "model.add(ZeroPadding2D((1,1)))\n",
    "model.add(Conv2D(1024,(3,3),padding='same',activation='relu'))\n",
    "model.add(Dropout(0.3))#\n",
    "model.add(BatchNormalization())\n",
    "model.add(MaxPooling2D(2,2))\n",
    "\n",
    "#first FC layer\n",
    "model.add(Flatten())\n",
    "model.add(Dense(512, activation='relu'))\n",
    "model.add(BatchNormalization())\n",
    "model.add(Dropout(0.5))\n",
    "\n",
    "#second FC layer\n",
    "model.add(Dense(1028, activation='relu'))\n",
    "model.add(BatchNormalization())\n",
    "model.add(Dropout(0.5))\n",
    "\n",
    "#third FC layer\n",
    "model.add(Dense(num_classes, activation=tf.nn.softmax))\n",
    "model.add(BatchNormalization())\n",
    "\n",
    "model.summary()"
   ]
  },
  {
   "cell_type": "code",
   "execution_count": 21,
   "metadata": {},
   "outputs": [
    {
     "name": "stdout",
     "output_type": "stream",
     "text": [
      "Model: \"sequential_1\"\n",
      "_________________________________________________________________\n",
      "Layer (type)                 Output Shape              Param #   \n",
      "=================================================================\n",
      "conv2d_1 (Conv2D)            (None, 32, 32, 64)        9472      \n",
      "_________________________________________________________________\n",
      "dropout_1 (Dropout)          (None, 32, 32, 64)        0         \n",
      "_________________________________________________________________\n",
      "batch_normalization_1 (Batch (None, 32, 32, 64)        256       \n",
      "_________________________________________________________________\n",
      "max_pooling2d_1 (MaxPooling2 (None, 16, 16, 64)        0         \n",
      "_________________________________________________________________\n",
      "conv2d_2 (Conv2D)            (None, 16, 16, 128)       204928    \n",
      "_________________________________________________________________\n",
      "dropout_2 (Dropout)          (None, 16, 16, 128)       0         \n",
      "_________________________________________________________________\n",
      "batch_normalization_2 (Batch (None, 16, 16, 128)       512       \n",
      "_________________________________________________________________\n",
      "max_pooling2d_2 (MaxPooling2 (None, 8, 8, 128)         0         \n",
      "_________________________________________________________________\n",
      "zero_padding2d_1 (ZeroPaddin (None, 10, 10, 128)       0         \n",
      "_________________________________________________________________\n",
      "conv2d_3 (Conv2D)            (None, 10, 10, 512)       590336    \n",
      "_________________________________________________________________\n",
      "dropout_3 (Dropout)          (None, 10, 10, 512)       0         \n",
      "_________________________________________________________________\n",
      "batch_normalization_3 (Batch (None, 10, 10, 512)       2048      \n",
      "_________________________________________________________________\n",
      "max_pooling2d_3 (MaxPooling2 (None, 5, 5, 512)         0         \n",
      "_________________________________________________________________\n",
      "zero_padding2d_2 (ZeroPaddin (None, 7, 7, 512)         0         \n",
      "_________________________________________________________________\n",
      "conv2d_4 (Conv2D)            (None, 7, 7, 1024)        4719616   \n",
      "_________________________________________________________________\n",
      "dropout_4 (Dropout)          (None, 7, 7, 1024)        0         \n",
      "_________________________________________________________________\n",
      "batch_normalization_4 (Batch (None, 7, 7, 1024)        4096      \n",
      "_________________________________________________________________\n",
      "max_pooling2d_4 (MaxPooling2 (None, 3, 3, 1024)        0         \n",
      "_________________________________________________________________\n",
      "zero_padding2d_3 (ZeroPaddin (None, 5, 5, 1024)        0         \n",
      "_________________________________________________________________\n",
      "conv2d_5 (Conv2D)            (None, 5, 5, 1024)        9438208   \n",
      "_________________________________________________________________\n",
      "dropout_5 (Dropout)          (None, 5, 5, 1024)        0         \n",
      "_________________________________________________________________\n",
      "batch_normalization_5 (Batch (None, 5, 5, 1024)        4096      \n",
      "_________________________________________________________________\n",
      "max_pooling2d_5 (MaxPooling2 (None, 2, 2, 1024)        0         \n",
      "_________________________________________________________________\n",
      "flatten_1 (Flatten)          (None, 4096)              0         \n",
      "_________________________________________________________________\n",
      "dense_1 (Dense)              (None, 512)               2097664   \n",
      "_________________________________________________________________\n",
      "batch_normalization_6 (Batch (None, 512)               2048      \n",
      "_________________________________________________________________\n",
      "dropout_6 (Dropout)          (None, 512)               0         \n",
      "_________________________________________________________________\n",
      "dense_2 (Dense)              (None, 1028)              527364    \n",
      "_________________________________________________________________\n",
      "batch_normalization_7 (Batch (None, 1028)              4112      \n",
      "_________________________________________________________________\n",
      "dropout_7 (Dropout)          (None, 1028)              0         \n",
      "_________________________________________________________________\n",
      "dense_3 (Dense)              (None, 10)                10290     \n",
      "_________________________________________________________________\n",
      "batch_normalization_8 (Batch (None, 10)                40        \n",
      "=================================================================\n",
      "Total params: 17,615,086\n",
      "Trainable params: 17,606,482\n",
      "Non-trainable params: 8,604\n",
      "_________________________________________________________________\n"
     ]
    }
   ],
   "source": [
    "#implementing callbacks\n",
    "from keras.callbacks import ModelCheckpoint,EarlyStopping,ReduceLROnPlateau\n",
    "checkpoint = ModelCheckpoint(\"cifar_alexnet_check_kaggle.h5\",\n",
    "                            monitor=\"val_loss\",\n",
    "                            mode=\"min\",\n",
    "                            save_best_only=True,\n",
    "                            verbose=1)\n",
    "early_stopping = EarlyStopping(monitor=\"val_loss\",\n",
    "                              min_delta=0,\n",
    "                              patience=5,\n",
    "                              verbose=1,\n",
    "                              restore_best_weights=True)\n",
    "reduce_lr = ReduceLROnPlateau(monitor=\"val_loss\",\n",
    "                             factor=0.2,\n",
    "                             patience=3,\n",
    "                             verbose=1,\n",
    "                             min_delta=0.0001)\n",
    "#putting callbacks in callbacks list\n",
    "callbacks = [checkpoint,early_stopping,reduce_lr]\n",
    "model.compile(loss=\"categorical_crossentropy\",\n",
    "             optimizer=RMSprop(lr=0.001),\n",
    "             metrics=['accuracy'])\n",
    "model.summary()\n"
   ]
  },
  {
   "cell_type": "code",
   "execution_count": 22,
   "metadata": {},
   "outputs": [
    {
     "name": "stdout",
     "output_type": "stream",
     "text": [
      "Epoch 1/20\n",
      "40000/40000 [==============================] - 1573s 39ms/step - loss: 6.7465 - accuracy: 0.1018 - val_loss: 9.0664 - val_accuracy: 0.0955\n",
      "Epoch 3/20\n",
      "40000/40000 [==============================] - 1563s 39ms/step - loss: 6.9400 - accuracy: 0.1003 - val_loss: 10.0738 - val_accuracy: 0.0954\n",
      "Epoch 9/20\n",
      "40000/40000 [==============================] - 1508s 38ms/step - loss: 6.6477 - accuracy: 0.1004 - val_loss: 8.0590 - val_accuracy: 0.0957\n",
      "Epoch 10/20\n",
      "40000/40000 [==============================] - 1494s 37ms/step - loss: 6.9921 - accuracy: 0.1004 - val_loss: 8.0590 - val_accuracy: 0.0955\n",
      "Epoch 11/20\n",
      "40000/40000 [==============================] - 1491s 37ms/step - loss: 7.7490 - accuracy: 0.1004 - val_loss: 8.0590 - val_accuracy: 0.0954\n",
      "Epoch 12/20\n",
      "31516/40000 [======================>.......] - ETA: 5:04 - loss: 6.4669 - accuracy: 0.0994"
     ]
    }
   ],
   "source": [
    "model.fit_generator(train_set,\n",
    "                    steps_per_epoch=40000,epochs=20,\n",
    "                    validation_data=(validation_set), validation_steps=4995, shuffle=True)"
   ]
  }
 ],
 "metadata": {
  "kernelspec": {
   "display_name": "Python 3",
   "language": "python",
   "name": "python3"
  },
  "language_info": {
   "codemirror_mode": {
    "name": "ipython",
    "version": 3
   },
   "file_extension": ".py",
   "mimetype": "text/x-python",
   "name": "python",
   "nbconvert_exporter": "python",
   "pygments_lexer": "ipython3",
   "version": "3.7.6"
  }
 },
 "nbformat": 4,
 "nbformat_minor": 4
}
